{
 "cells": [
  {
   "cell_type": "markdown",
   "metadata": {},
   "source": [
    "# Final models comparison and summary"
   ]
  },
  {
   "cell_type": "markdown",
   "metadata": {},
   "source": [
    "### Dependencies loading"
   ]
  },
  {
   "cell_type": "markdown",
   "metadata": {},
   "source": [
    "### Final models comparison"
   ]
  },
  {
   "cell_type": "markdown",
   "metadata": {},
   "source": [
    "Now we have to use our 6 models to score our test set!"
   ]
  },
  {
   "cell_type": "code",
   "execution_count": null,
   "metadata": {
    "vscode": {
     "languageId": "plaintext"
    }
   },
   "outputs": [],
   "source": [
    "import joblib\n",
    "\n",
    "# Load the models\n",
    "rf_best_model = joblib.load('/rf_best_model.pkl')  # Adjust the path as necessary\n",
    "dt_best_model = joblib.load('/dt_best_model.pkl')  # Adjust the path as necessary\n",
    "elasticnet_best_model = joblib.load('/elasticnet_best_model.pkl')  # Adjust the path as necessary\n"
   ]
  },
  {
   "cell_type": "code",
   "execution_count": null,
   "metadata": {
    "vscode": {
     "languageId": "plaintext"
    }
   },
   "outputs": [],
   "source": [
    "# Assuming the test data is already loaded and feature selected\n",
    "# X_test_selected = selector.transform(X_test)  # Assuming 'selector' was fitted on the training data\n"
   ]
  },
  {
   "cell_type": "code",
   "execution_count": null,
   "metadata": {
    "vscode": {
     "languageId": "plaintext"
    }
   },
   "outputs": [],
   "source": [
    "from sklearn.metrics import mean_squared_error\n",
    "\n",
    "# Predictions\n",
    "predictions_rf = rf_best_model.predict(X_test)\n",
    "predictions_dt = dt_best_model.predict(X_test)\n",
    "predictions_en = elasticnet_best_model.predict(X_test)\n",
    "\n",
    "# Evaluation\n",
    "mse_rf = mean_squared_error(y_test, predictions_rf)\n",
    "mse_dt = mean_squared_error(y_test, predictions_dt)\n",
    "mse_en = mean_squared_error(y_test, predictions_en)\n",
    "\n",
    "print(f'Random Forest MSE: {mse_rf}')\n",
    "print(f'Decision Tree MSE: {mse_dt}')\n",
    "print(f'Elastic Net MSE: {mse_en}')\n"
   ]
  },
  {
   "cell_type": "code",
   "execution_count": null,
   "metadata": {
    "vscode": {
     "languageId": "plaintext"
    }
   },
   "outputs": [],
   "source": [
    "import matplotlib.pyplot as plt\n",
    "\n",
    "previous_model_mse = 0.0  # Example placeholder value\n",
    "\n",
    "# Plotting for visual comparison\n",
    "models = ['Previous Model', 'Random Forest', 'Decision Tree', 'Elastic Net']\n",
    "mses = [previous_model_mse, mse_rf, mse_dt, mse_en]\n",
    "\n",
    "plt.figure(figsize=(10, 6))\n",
    "plt.bar(models, mses, color=['blue', 'green', 'red', 'purple'])\n",
    "plt.xlabel('Model')\n",
    "plt.ylabel('MSE')\n",
    "plt.title('Model Comparison')\n",
    "plt.show()\n"
   ]
  }
 ],
 "metadata": {
  "kernelspec": {
   "display_name": "base",
   "language": "python",
   "name": "python3"
  },
  "language_info": {
   "codemirror_mode": {
    "name": "ipython",
    "version": 3
   },
   "file_extension": ".py",
   "mimetype": "text/x-python",
   "name": "python",
   "nbconvert_exporter": "python",
   "pygments_lexer": "ipython3",
   "version": "3.9.13"
  },
  "vscode": {
   "interpreter": {
    "hash": "bff0f7c864331389fa2ce0c5d534e26d0bfdbc8f9c927a5938dc8a191fde6d96"
   }
  }
 },
 "nbformat": 4,
 "nbformat_minor": 4
}
